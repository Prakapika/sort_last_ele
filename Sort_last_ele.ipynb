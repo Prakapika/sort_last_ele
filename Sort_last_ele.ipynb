{
 "cells": [
  {
   "cell_type": "code",
   "execution_count": 1,
   "id": "65e3a798",
   "metadata": {},
   "outputs": [
    {
     "name": "stdout",
     "output_type": "stream",
     "text": [
      "Unsorted List = \n",
      " ['great', 'hello', 'hiyo', 'abc']\n",
      "\n",
      "Sorted List according to the second last elemnt in the sublist =\n",
      "  ['abc', 'hello', 'hiyo', 'great']\n"
     ]
    }
   ],
   "source": [
    "def SortFunc(sub_li):\n",
    "    sub_li.sort(key = lambda x: x[:2][::-2])\n",
    "    return sub_li\n",
    "\n",
    "subList = lst = ['great','hello','hiyo','abc']\n",
    "print(\"Unsorted List = \\n\",subList)\n",
    "print(\"\\nSorted List according to the second last elemnt in the sublist =\\n \",SortFunc(subList))"
   ]
  },
  {
   "cell_type": "code",
   "execution_count": null,
   "id": "8e7aafca",
   "metadata": {},
   "outputs": [],
   "source": []
  }
 ],
 "metadata": {
  "kernelspec": {
   "display_name": "Python 3 (ipykernel)",
   "language": "python",
   "name": "python3"
  },
  "language_info": {
   "codemirror_mode": {
    "name": "ipython",
    "version": 3
   },
   "file_extension": ".py",
   "mimetype": "text/x-python",
   "name": "python",
   "nbconvert_exporter": "python",
   "pygments_lexer": "ipython3",
   "version": "3.10.6"
  }
 },
 "nbformat": 4,
 "nbformat_minor": 5
}
